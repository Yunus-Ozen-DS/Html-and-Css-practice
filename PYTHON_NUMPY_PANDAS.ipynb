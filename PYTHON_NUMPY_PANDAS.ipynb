{
  "cells": [
    {
      "cell_type": "markdown",
      "metadata": {
        "id": "view-in-github",
        "colab_type": "text"
      },
      "source": [
        "<a href=\"https://colab.research.google.com/github/Yunus-Ozen-DS/Html-and-Css-practice_Simple_website/blob/main/PYTHON_NUMPY_PANDAS.ipynb\" target=\"_parent\"><img src=\"https://colab.research.google.com/assets/colab-badge.svg\" alt=\"Open In Colab\"/></a>"
      ]
    },
    {
      "cell_type": "markdown",
      "metadata": {
        "id": "2UKlGjTSairU"
      },
      "source": [
        "## PYTHON"
      ]
    },
    {
      "cell_type": "markdown",
      "metadata": {
        "id": "vAGm7QU6D7t-"
      },
      "source": [
        "#Boolean"
      ]
    },
    {
      "cell_type": "markdown",
      "metadata": {
        "id": "8mtMfer_DhNV"
      },
      "source": [
        "#List"
      ]
    },
    {
      "cell_type": "code",
      "execution_count": null,
      "metadata": {
        "id": "MTA7SiG_GG0N"
      },
      "outputs": [],
      "source": [
        "courses=['History','Math','Physics,','CompSci']"
      ]
    },
    {
      "cell_type": "code",
      "execution_count": null,
      "metadata": {
        "colab": {
          "base_uri": "https://localhost:8080/",
          "height": 35
        },
        "id": "NGPDUXjcGG5-",
        "outputId": "c1ec84a7-f0a3-4ebe-8e87-362e03683d22"
      },
      "outputs": [
        {
          "data": {
            "application/vnd.google.colaboratory.intrinsic+json": {
              "type": "string"
            },
            "text/plain": [
              "'Math'"
            ]
          },
          "execution_count": 3,
          "metadata": {},
          "output_type": "execute_result"
        }
      ],
      "source": [
        "courses[1]"
      ]
    },
    {
      "cell_type": "code",
      "execution_count": null,
      "metadata": {
        "colab": {
          "base_uri": "https://localhost:8080/"
        },
        "id": "8Yhgt1wjGG9Y",
        "outputId": "d7bc69bc-3017-4485-c3dc-46487a38d73f"
      },
      "outputs": [
        {
          "data": {
            "text/plain": [
              "1"
            ]
          },
          "execution_count": 4,
          "metadata": {},
          "output_type": "execute_result"
        }
      ],
      "source": [
        "courses.index('Math')"
      ]
    },
    {
      "cell_type": "code",
      "execution_count": null,
      "metadata": {
        "colab": {
          "base_uri": "https://localhost:8080/"
        },
        "id": "U25ExxFwGHAI",
        "outputId": "4e6f9e25-8a11-42b5-9ecf-5554f45df9e1"
      },
      "outputs": [
        {
          "data": {
            "text/plain": [
              "['Math', 'Physics,']"
            ]
          },
          "execution_count": 5,
          "metadata": {},
          "output_type": "execute_result"
        }
      ],
      "source": [
        "courses[1:3]"
      ]
    },
    {
      "cell_type": "code",
      "execution_count": null,
      "metadata": {
        "colab": {
          "base_uri": "https://localhost:8080/"
        },
        "id": "eE7aKPzRGHCz",
        "outputId": "fbc56d0b-123e-413b-8131-a5db1b7b3dfc"
      },
      "outputs": [
        {
          "data": {
            "text/plain": [
              "['Math']"
            ]
          },
          "execution_count": 8,
          "metadata": {},
          "output_type": "execute_result"
        }
      ],
      "source": [
        "courses[-3:-2:1]"
      ]
    },
    {
      "cell_type": "code",
      "execution_count": null,
      "metadata": {
        "colab": {
          "base_uri": "https://localhost:8080/"
        },
        "id": "y8JGplChGHF1",
        "outputId": "3ff89a6b-071f-4ebc-923f-02f4fb9ab9a2"
      },
      "outputs": [
        {
          "data": {
            "text/plain": [
              "['CompSci', 'Physics,']"
            ]
          },
          "execution_count": 9,
          "metadata": {},
          "output_type": "execute_result"
        }
      ],
      "source": [
        "courses[-1:-3:-1]"
      ]
    },
    {
      "cell_type": "code",
      "execution_count": null,
      "metadata": {
        "colab": {
          "base_uri": "https://localhost:8080/"
        },
        "id": "xOUYj8JMGHLV",
        "outputId": "430f5cd6-5cb2-4000-b5f4-29b2d3ee4b24"
      },
      "outputs": [
        {
          "data": {
            "text/plain": [
              "['History', 'Math', 'Physics,', 'CompSci', 'Art', 'Art']"
            ]
          },
          "execution_count": 11,
          "metadata": {},
          "output_type": "execute_result"
        }
      ],
      "source": [
        "courses.append('Art')\n",
        "courses"
      ]
    },
    {
      "cell_type": "code",
      "execution_count": null,
      "metadata": {
        "colab": {
          "base_uri": "https://localhost:8080/"
        },
        "id": "RFGAmrEvGHNS",
        "outputId": "3c8a25aa-6894-491a-892f-1b0d8b16b22d"
      },
      "outputs": [
        {
          "data": {
            "text/plain": [
              "['History', 'Math', 'Physics,', 'Biology', 'CompSci', 'Art', 'Art']"
            ]
          },
          "execution_count": 12,
          "metadata": {},
          "output_type": "execute_result"
        }
      ],
      "source": [
        "courses.insert(3,'Biology')\n",
        "courses"
      ]
    },
    {
      "cell_type": "code",
      "execution_count": null,
      "metadata": {
        "id": "-SPr4gFVGHPR"
      },
      "outputs": [],
      "source": [
        "courses_2=['Arkology','Documentary']"
      ]
    },
    {
      "cell_type": "code",
      "execution_count": null,
      "metadata": {
        "colab": {
          "base_uri": "https://localhost:8080/"
        },
        "id": "CBNN_F7uGHVX",
        "outputId": "57a2d400-f5a3-4cff-f9fa-bc1bc456f687"
      },
      "outputs": [
        {
          "data": {
            "text/plain": [
              "[['Arkology', 'Documentary'],\n",
              " ['Arkology', 'Documentary'],\n",
              " ['Arkology', 'Documentary'],\n",
              " 'History',\n",
              " 'Math',\n",
              " 'Physics,',\n",
              " 'Biology',\n",
              " 'CompSci',\n",
              " 'Art',\n",
              " 'Art']"
            ]
          },
          "execution_count": 17,
          "metadata": {},
          "output_type": "execute_result"
        }
      ],
      "source": [
        "courses.insert(0,courses_2)\n",
        "courses"
      ]
    },
    {
      "cell_type": "code",
      "execution_count": null,
      "metadata": {
        "colab": {
          "base_uri": "https://localhost:8080/"
        },
        "id": "GKaqueYqIU3_",
        "outputId": "5040b0e8-a368-4948-ab20-2919c69bc3ab"
      },
      "outputs": [
        {
          "data": {
            "text/plain": [
              "[['Arkology', 'Documentary'], 'Physics,', 'Biology', 'CompSci', 'Art', 'Art']"
            ]
          },
          "execution_count": 19,
          "metadata": {},
          "output_type": "execute_result"
        }
      ],
      "source": [
        "del courses[1:3]\n",
        "courses"
      ]
    },
    {
      "cell_type": "code",
      "execution_count": null,
      "metadata": {
        "id": "y0CO6X-DIU65"
      },
      "outputs": [],
      "source": [
        "courses_3=['History', 'Math', 'Physics,', 'CompSci', 'Art', 'Art']\n",
        "courses_4=['Arkology','Documentary']\n"
      ]
    },
    {
      "cell_type": "code",
      "execution_count": null,
      "metadata": {
        "colab": {
          "base_uri": "https://localhost:8080/"
        },
        "id": "7yCfRNP9IU-r",
        "outputId": "8a95f2bf-c19c-4685-98ed-aba5981b7be2"
      },
      "outputs": [
        {
          "data": {
            "text/plain": [
              "['History',\n",
              " 'Math',\n",
              " 'Physics,',\n",
              " 'CompSci',\n",
              " 'Art',\n",
              " 'Art',\n",
              " 'Arkology',\n",
              " 'Documentary']"
            ]
          },
          "execution_count": 22,
          "metadata": {},
          "output_type": "execute_result"
        }
      ],
      "source": [
        "courses_3.extend(courses_4)\n",
        "courses_3"
      ]
    },
    {
      "cell_type": "code",
      "execution_count": null,
      "metadata": {
        "id": "z3eu_hWWIVCU"
      },
      "outputs": [],
      "source": [
        "courses_3.remove('Art')"
      ]
    },
    {
      "cell_type": "code",
      "execution_count": null,
      "metadata": {
        "colab": {
          "base_uri": "https://localhost:8080/"
        },
        "id": "hEzUdR4yIVDw",
        "outputId": "9230c5e8-8cfb-42b2-e96e-849099cc9ce5"
      },
      "outputs": [
        {
          "data": {
            "text/plain": [
              "['History', 'Math', 'Physics,', 'CompSci', 'Arkology', 'Documentary']"
            ]
          },
          "execution_count": 27,
          "metadata": {},
          "output_type": "execute_result"
        }
      ],
      "source": [
        "courses_3"
      ]
    },
    {
      "cell_type": "code",
      "execution_count": null,
      "metadata": {
        "colab": {
          "base_uri": "https://localhost:8080/",
          "height": 35
        },
        "id": "oCmQU36EIVF-",
        "outputId": "7e71c9e2-3321-4ffc-dfa0-b9eefa3abda8"
      },
      "outputs": [
        {
          "data": {
            "application/vnd.google.colaboratory.intrinsic+json": {
              "type": "string"
            },
            "text/plain": [
              "'Documentary'"
            ]
          },
          "execution_count": 28,
          "metadata": {},
          "output_type": "execute_result"
        }
      ],
      "source": [
        "courses_3.pop()"
      ]
    },
    {
      "cell_type": "code",
      "execution_count": null,
      "metadata": {
        "colab": {
          "base_uri": "https://localhost:8080/"
        },
        "id": "Ucobs0sWJwIV",
        "outputId": "8cf25f58-8323-4677-fffd-e5c33cf49d75"
      },
      "outputs": [
        {
          "data": {
            "text/plain": [
              "['History', 'Math', 'Physics,', 'CompSci', 'Arkology']"
            ]
          },
          "execution_count": 29,
          "metadata": {},
          "output_type": "execute_result"
        }
      ],
      "source": [
        "courses_3"
      ]
    },
    {
      "cell_type": "code",
      "execution_count": null,
      "metadata": {
        "colab": {
          "base_uri": "https://localhost:8080/"
        },
        "id": "W6PyaosTJwLr",
        "outputId": "57d27240-5939-4f87-a684-cd7102392fdd"
      },
      "outputs": [
        {
          "data": {
            "text/plain": [
              "['History', 'Math', 'Physics,', 'CompSci', 'Arkology']"
            ]
          },
          "execution_count": 32,
          "metadata": {},
          "output_type": "execute_result"
        }
      ],
      "source": [
        "courses_3"
      ]
    },
    {
      "cell_type": "code",
      "execution_count": null,
      "metadata": {
        "colab": {
          "base_uri": "https://localhost:8080/"
        },
        "id": "Vs08zUauJwPB",
        "outputId": "0f60d526-11b7-4780-cc77-55395feff3ab"
      },
      "outputs": [
        {
          "data": {
            "text/plain": [
              "['Arkology', 'CompSci', 'History', 'Math', 'Physics,']"
            ]
          },
          "execution_count": 34,
          "metadata": {},
          "output_type": "execute_result"
        }
      ],
      "source": [
        "courses_3.sort()\n",
        "courses_3"
      ]
    },
    {
      "cell_type": "code",
      "execution_count": null,
      "metadata": {
        "id": "P4l0RZANKZ2x"
      },
      "outputs": [],
      "source": [
        "nums=[1,5,8,4,6,7,9,5,8,5]\n",
        "#nums.sort()\n",
        "#nums"
      ]
    },
    {
      "cell_type": "code",
      "execution_count": null,
      "metadata": {
        "colab": {
          "base_uri": "https://localhost:8080/"
        },
        "id": "Q-tDJ0RiKZ6F",
        "outputId": "b7c17d20-2017-46cd-c3a8-b13838413b8d"
      },
      "outputs": [
        {
          "output_type": "execute_result",
          "data": {
            "text/plain": [
              "[9, 8, 8, 7, 6, 5, 5, 5, 4, 1]"
            ]
          },
          "metadata": {},
          "execution_count": 51
        }
      ],
      "source": [
        "nums.sort(reverse=True)\n",
        "nums"
      ]
    },
    {
      "cell_type": "code",
      "execution_count": null,
      "metadata": {
        "colab": {
          "base_uri": "https://localhost:8080/"
        },
        "id": "-4EBaluSKZ-2",
        "outputId": "f8074ffd-a228-4764-ff7a-857bfd306dc7"
      },
      "outputs": [
        {
          "output_type": "execute_result",
          "data": {
            "text/plain": [
              "[1, 4, 5, 5, 5, 6, 7, 8, 8, 9]"
            ]
          },
          "metadata": {},
          "execution_count": 52
        }
      ],
      "source": [
        "sorted(nums)"
      ]
    },
    {
      "cell_type": "code",
      "execution_count": null,
      "metadata": {
        "colab": {
          "base_uri": "https://localhost:8080/"
        },
        "id": "rkQJFUNkKaCN",
        "outputId": "5d4eeffe-b5e8-47ba-cde7-edbf2f05f32f"
      },
      "outputs": [
        {
          "data": {
            "text/plain": [
              "1"
            ]
          },
          "execution_count": 46,
          "metadata": {},
          "output_type": "execute_result"
        }
      ],
      "source": [
        "min(nums)"
      ]
    },
    {
      "cell_type": "code",
      "execution_count": null,
      "metadata": {
        "colab": {
          "base_uri": "https://localhost:8080/"
        },
        "id": "N_fTZoVVKaGJ",
        "outputId": "ec78224f-55c1-4fc3-9530-b6018bd1f2d2"
      },
      "outputs": [
        {
          "data": {
            "text/plain": [
              "9"
            ]
          },
          "execution_count": 47,
          "metadata": {},
          "output_type": "execute_result"
        }
      ],
      "source": [
        "max(nums)"
      ]
    },
    {
      "cell_type": "code",
      "execution_count": null,
      "metadata": {
        "colab": {
          "base_uri": "https://localhost:8080/"
        },
        "id": "NqPf9LecKaPB",
        "outputId": "18017d75-2723-4072-a54d-da7e7cd4e027"
      },
      "outputs": [
        {
          "data": {
            "text/plain": [
              "58"
            ]
          },
          "execution_count": 48,
          "metadata": {},
          "output_type": "execute_result"
        }
      ],
      "source": [
        "sum(nums)"
      ]
    },
    {
      "cell_type": "code",
      "execution_count": null,
      "metadata": {
        "colab": {
          "base_uri": "https://localhost:8080/"
        },
        "id": "AFNwi_OhKaYB",
        "outputId": "cf13c7a2-f923-473b-ddbf-7ff0c62755b4"
      },
      "outputs": [
        {
          "data": {
            "text/plain": [
              "6"
            ]
          },
          "execution_count": 54,
          "metadata": {},
          "output_type": "execute_result"
        }
      ],
      "source": [
        "nums.index(9)"
      ]
    },
    {
      "cell_type": "code",
      "execution_count": null,
      "metadata": {
        "colab": {
          "base_uri": "https://localhost:8080/"
        },
        "id": "yZWUPWRzLgiZ",
        "outputId": "8d802343-6cad-4946-fceb-2e6232173846"
      },
      "outputs": [
        {
          "data": {
            "text/plain": [
              "True"
            ]
          },
          "execution_count": 55,
          "metadata": {},
          "output_type": "execute_result"
        }
      ],
      "source": [
        "7 in nums"
      ]
    },
    {
      "cell_type": "code",
      "execution_count": null,
      "metadata": {
        "colab": {
          "base_uri": "https://localhost:8080/"
        },
        "id": "qHEGaDwbLgly",
        "outputId": "68da1bae-e069-42d7-a9c2-a7b644e7cc5b"
      },
      "outputs": [
        {
          "data": {
            "text/plain": [
              "False"
            ]
          },
          "execution_count": 56,
          "metadata": {},
          "output_type": "execute_result"
        }
      ],
      "source": [
        "11 in nums"
      ]
    },
    {
      "cell_type": "code",
      "execution_count": null,
      "metadata": {
        "colab": {
          "base_uri": "https://localhost:8080/"
        },
        "id": "SQoJCLnDLgu_",
        "outputId": "53048c98-6b24-4c0b-c2ce-f7e9fed9134c"
      },
      "outputs": [
        {
          "data": {
            "text/plain": [
              "['Arkology', 'CompSci', 'History', 'Math', 'Physics,']"
            ]
          },
          "execution_count": 57,
          "metadata": {},
          "output_type": "execute_result"
        }
      ],
      "source": [
        "courses_3"
      ]
    },
    {
      "cell_type": "code",
      "execution_count": null,
      "metadata": {
        "colab": {
          "base_uri": "https://localhost:8080/"
        },
        "id": "xSxJdPjzLgzD",
        "outputId": "1b7d58aa-1756-4b6c-c4af-d2f6d7d94228"
      },
      "outputs": [
        {
          "name": "stdout",
          "output_type": "stream",
          "text": [
            "Arkology\n",
            "CompSci\n",
            "History\n",
            "Math\n",
            "Physics,\n"
          ]
        }
      ],
      "source": [
        "for edu in courses_3:\n",
        "  print(edu)"
      ]
    },
    {
      "cell_type": "code",
      "execution_count": null,
      "metadata": {
        "colab": {
          "base_uri": "https://localhost:8080/"
        },
        "id": "BmVJwLgwLg1d",
        "outputId": "2563e739-09f5-46e2-c5f6-0077681a608f"
      },
      "outputs": [
        {
          "name": "stdout",
          "output_type": "stream",
          "text": [
            "0 Arkology\n",
            "1 CompSci\n",
            "2 History\n",
            "3 Math\n",
            "4 Physics,\n"
          ]
        }
      ],
      "source": [
        "for index,eds in enumerate(courses_3):\n",
        "  print(index, eds)"
      ]
    },
    {
      "cell_type": "code",
      "execution_count": null,
      "metadata": {
        "id": "xkhuwzK_Lg7O"
      },
      "outputs": [],
      "source": [
        "#for index,eds in enumerate(courses_3, start=1):\n",
        " # print(index, eds)"
      ]
    },
    {
      "cell_type": "code",
      "execution_count": null,
      "metadata": {
        "colab": {
          "background_save": true
        },
        "id": "F9RpMxbmLg-8",
        "outputId": "bdb4412f-b049-4cf9-dafa-49324187ba5a"
      },
      "outputs": [
        {
          "data": {
            "application/vnd.google.colaboratory.intrinsic+json": {
              "type": "string"
            },
            "text/plain": [
              "'Arkology,CompSci,History,Math,Physics,'"
            ]
          },
          "execution_count": 62,
          "metadata": {},
          "output_type": "execute_result"
        }
      ],
      "source": [
        "courses_5=','.join(courses_3)\n",
        "courses"
      ]
    },
    {
      "cell_type": "code",
      "execution_count": null,
      "metadata": {
        "id": "PFw8CrYlNMku"
      },
      "outputs": [],
      "source": [
        "#courses_5"
      ]
    },
    {
      "cell_type": "code",
      "execution_count": null,
      "metadata": {
        "id": "mrc7Irw6NMpF"
      },
      "outputs": [],
      "source": [
        "courses_6=courses_5.split('-')"
      ]
    },
    {
      "cell_type": "code",
      "execution_count": null,
      "metadata": {
        "id": "WMkxaAIVNMv2"
      },
      "outputs": [],
      "source": []
    },
    {
      "cell_type": "code",
      "execution_count": null,
      "metadata": {
        "id": "qLF0JmhsNM1k"
      },
      "outputs": [],
      "source": []
    },
    {
      "cell_type": "code",
      "execution_count": null,
      "metadata": {
        "id": "rf_Jzba_NM6w"
      },
      "outputs": [],
      "source": []
    },
    {
      "cell_type": "code",
      "execution_count": null,
      "metadata": {
        "id": "mG1jDrO7LhC8"
      },
      "outputs": [],
      "source": []
    },
    {
      "cell_type": "markdown",
      "metadata": {
        "id": "ixTZ8wM4DhWs"
      },
      "source": [
        "#Tuple"
      ]
    },
    {
      "cell_type": "code",
      "execution_count": null,
      "metadata": {
        "id": "TzNIviiuM-H8",
        "colab": {
          "base_uri": "https://localhost:8080/"
        },
        "outputId": "467c0874-6062-4116-d619-9050c72cffda"
      },
      "outputs": [
        {
          "output_type": "execute_result",
          "data": {
            "text/plain": [
              "('Arkology', 'CompSci', 'History', 'Math', 'Physics,')"
            ]
          },
          "metadata": {},
          "execution_count": 57
        }
      ],
      "source": [
        "af=['Arkology', 'CompSci', 'History', 'Math', 'Physics,']\n",
        "asw=tuple(af)\n",
        "asw\n"
      ]
    },
    {
      "cell_type": "code",
      "execution_count": null,
      "metadata": {
        "id": "m9Vap9pJM-N2",
        "colab": {
          "base_uri": "https://localhost:8080/",
          "height": 35
        },
        "outputId": "e2be11af-4b46-4c0f-d823-e0736a0bb12b"
      },
      "outputs": [
        {
          "output_type": "execute_result",
          "data": {
            "text/plain": [
              "'History'"
            ],
            "application/vnd.google.colaboratory.intrinsic+json": {
              "type": "string"
            }
          },
          "metadata": {},
          "execution_count": 58
        }
      ],
      "source": [
        "asw[2]"
      ]
    },
    {
      "cell_type": "code",
      "source": [],
      "metadata": {
        "id": "V4wRVh_0Cmud"
      },
      "execution_count": null,
      "outputs": []
    },
    {
      "cell_type": "code",
      "source": [],
      "metadata": {
        "id": "pkqUDUNiCmzw"
      },
      "execution_count": null,
      "outputs": []
    },
    {
      "cell_type": "code",
      "source": [],
      "metadata": {
        "id": "2uu63Dj-ZzKP"
      },
      "execution_count": null,
      "outputs": []
    },
    {
      "cell_type": "markdown",
      "metadata": {
        "id": "fu56xqZXDyfz"
      },
      "source": [
        "#Set"
      ]
    },
    {
      "cell_type": "code",
      "source": [
        "df=['History', 'Math', 'Physics,', 'CompSci', 'Arkology', 'Documentary','Arkology', 'CompSci', 'History', 'Math', 'Physics,']"
      ],
      "metadata": {
        "id": "0lZ8kT8xZzNH"
      },
      "execution_count": null,
      "outputs": []
    },
    {
      "cell_type": "code",
      "source": [
        "sf=set(df)"
      ],
      "metadata": {
        "id": "nxbc2MHKZzP8"
      },
      "execution_count": null,
      "outputs": []
    },
    {
      "cell_type": "code",
      "source": [
        "sf"
      ],
      "metadata": {
        "colab": {
          "base_uri": "https://localhost:8080/"
        },
        "id": "wJvPFBn6ZzTH",
        "outputId": "de15c231-a5f6-4f7b-b867-f94fa3c1524b"
      },
      "execution_count": null,
      "outputs": [
        {
          "output_type": "execute_result",
          "data": {
            "text/plain": [
              "{'Arkology', 'CompSci', 'Documentary', 'History', 'Math', 'Physics,'}"
            ]
          },
          "metadata": {},
          "execution_count": 63
        }
      ]
    },
    {
      "cell_type": "code",
      "source": [
        "az=['Arkology', 'CompSci', 'History', 'Math', 'Physics,']\n",
        "ax=['History', 'Math', 'Physics,', 'Art', 'Arkology', 'Documentary']\n"
      ],
      "metadata": {
        "id": "V7ycr-eZZzHL"
      },
      "execution_count": null,
      "outputs": []
    },
    {
      "cell_type": "code",
      "source": [
        "len(ax), len(az)"
      ],
      "metadata": {
        "colab": {
          "base_uri": "https://localhost:8080/"
        },
        "id": "wJgzsfQuZzXH",
        "outputId": "41efc066-94a2-47c4-839e-fefd6ba62d59"
      },
      "execution_count": null,
      "outputs": [
        {
          "output_type": "execute_result",
          "data": {
            "text/plain": [
              "(6, 5)"
            ]
          },
          "metadata": {},
          "execution_count": 67
        }
      ]
    },
    {
      "cell_type": "code",
      "source": [
        "'History'in az"
      ],
      "metadata": {
        "colab": {
          "base_uri": "https://localhost:8080/"
        },
        "id": "uNzAlhhoZzbE",
        "outputId": "42fdda96-68d2-425d-ce1c-d96bb2debc9a"
      },
      "execution_count": null,
      "outputs": [
        {
          "output_type": "execute_result",
          "data": {
            "text/plain": [
              "True"
            ]
          },
          "metadata": {},
          "execution_count": 69
        }
      ]
    },
    {
      "cell_type": "code",
      "source": [
        "al=set(ax)\n",
        "ag=set(az)"
      ],
      "metadata": {
        "id": "ln8FanM_dAuj"
      },
      "execution_count": null,
      "outputs": []
    },
    {
      "cell_type": "code",
      "source": [
        "al.intersection(ag)"
      ],
      "metadata": {
        "colab": {
          "base_uri": "https://localhost:8080/"
        },
        "id": "d9XczihgdAyl",
        "outputId": "214782d0-ab7a-4ae9-8400-c1c8906ba397"
      },
      "execution_count": null,
      "outputs": [
        {
          "output_type": "execute_result",
          "data": {
            "text/plain": [
              "{'Arkology', 'History', 'Math', 'Physics,'}"
            ]
          },
          "metadata": {},
          "execution_count": 73
        }
      ]
    },
    {
      "cell_type": "code",
      "source": [
        "al.difference(ag)"
      ],
      "metadata": {
        "colab": {
          "base_uri": "https://localhost:8080/"
        },
        "id": "qakoKQYUdA1-",
        "outputId": "70b4f79d-35a4-4aa7-b160-4495aef72a9c"
      },
      "execution_count": null,
      "outputs": [
        {
          "output_type": "execute_result",
          "data": {
            "text/plain": [
              "{'Art', 'Documentary'}"
            ]
          },
          "metadata": {},
          "execution_count": 74
        }
      ]
    },
    {
      "cell_type": "code",
      "source": [
        "al.union(ag)"
      ],
      "metadata": {
        "colab": {
          "base_uri": "https://localhost:8080/"
        },
        "id": "cMY5xbY1dA4v",
        "outputId": "cb59be26-e9c9-4e09-e3dc-55dcc4055263"
      },
      "execution_count": null,
      "outputs": [
        {
          "output_type": "execute_result",
          "data": {
            "text/plain": [
              "{'Arkology', 'Art', 'CompSci', 'Documentary', 'History', 'Math', 'Physics,'}"
            ]
          },
          "metadata": {},
          "execution_count": 75
        }
      ]
    },
    {
      "cell_type": "code",
      "source": [
        "al | ag"
      ],
      "metadata": {
        "colab": {
          "base_uri": "https://localhost:8080/"
        },
        "id": "ZomOa_FhdA6o",
        "outputId": "1633cd86-0ddd-4cd2-dc94-ee0b2479edbf"
      },
      "execution_count": null,
      "outputs": [
        {
          "output_type": "execute_result",
          "data": {
            "text/plain": [
              "{'Arkology', 'Art', 'CompSci', 'Documentary', 'History', 'Math', 'Physics,'}"
            ]
          },
          "metadata": {},
          "execution_count": 76
        }
      ]
    },
    {
      "cell_type": "code",
      "source": [
        "al & ag"
      ],
      "metadata": {
        "colab": {
          "base_uri": "https://localhost:8080/"
        },
        "id": "uFQVywBMdA9y",
        "outputId": "f2d3f5a0-2040-4e9d-d1e5-9d24973c104b"
      },
      "execution_count": null,
      "outputs": [
        {
          "output_type": "execute_result",
          "data": {
            "text/plain": [
              "{'Arkology', 'History', 'Math', 'Physics,'}"
            ]
          },
          "metadata": {},
          "execution_count": 77
        }
      ]
    },
    {
      "cell_type": "code",
      "source": [
        "al - ag"
      ],
      "metadata": {
        "colab": {
          "base_uri": "https://localhost:8080/"
        },
        "id": "HXNPflMedBAq",
        "outputId": "2dd7fbcd-387d-4010-d051-c0886a248bfd"
      },
      "execution_count": null,
      "outputs": [
        {
          "output_type": "execute_result",
          "data": {
            "text/plain": [
              "{'Art', 'Documentary'}"
            ]
          },
          "metadata": {},
          "execution_count": 78
        }
      ]
    },
    {
      "cell_type": "code",
      "source": [
        "ag - al"
      ],
      "metadata": {
        "colab": {
          "base_uri": "https://localhost:8080/"
        },
        "id": "F5o7_7-idtHP",
        "outputId": "b1bfce1a-7112-439d-becf-931df89e8d84"
      },
      "execution_count": null,
      "outputs": [
        {
          "output_type": "execute_result",
          "data": {
            "text/plain": [
              "{'CompSci'}"
            ]
          },
          "metadata": {},
          "execution_count": 79
        }
      ]
    },
    {
      "cell_type": "code",
      "source": [
        "ag ^ al"
      ],
      "metadata": {
        "colab": {
          "base_uri": "https://localhost:8080/"
        },
        "id": "FK6-HIJcdtLL",
        "outputId": "793a87f6-cc6a-47fd-bd87-b36b808ade01"
      },
      "execution_count": null,
      "outputs": [
        {
          "output_type": "execute_result",
          "data": {
            "text/plain": [
              "{'Art', 'CompSci', 'Documentary'}"
            ]
          },
          "metadata": {},
          "execution_count": 80
        }
      ]
    },
    {
      "cell_type": "code",
      "source": [
        "al ^ ag"
      ],
      "metadata": {
        "colab": {
          "base_uri": "https://localhost:8080/"
        },
        "id": "13d7-6wzdtPE",
        "outputId": "a7c3935a-a279-47cd-df62-318626a3748d"
      },
      "execution_count": null,
      "outputs": [
        {
          "output_type": "execute_result",
          "data": {
            "text/plain": [
              "{'Art', 'CompSci', 'Documentary'}"
            ]
          },
          "metadata": {},
          "execution_count": 81
        }
      ]
    },
    {
      "cell_type": "code",
      "source": [],
      "metadata": {
        "id": "wPH8LbMCdtUC"
      },
      "execution_count": null,
      "outputs": []
    },
    {
      "cell_type": "code",
      "source": [],
      "metadata": {
        "id": "ZOR8i3-KdtYu"
      },
      "execution_count": null,
      "outputs": []
    },
    {
      "cell_type": "markdown",
      "metadata": {
        "id": "nZOddK57Dhik"
      },
      "source": [
        "#Dictionaries"
      ]
    },
    {
      "cell_type": "code",
      "source": [
        "asd={'Name':'Ali','Sourname':'Ak','Age':25}"
      ],
      "metadata": {
        "id": "agLmbmUYVkoN"
      },
      "execution_count": null,
      "outputs": []
    },
    {
      "cell_type": "code",
      "source": [
        "asd['Name']"
      ],
      "metadata": {
        "colab": {
          "base_uri": "https://localhost:8080/",
          "height": 35
        },
        "id": "82a9tmFiVksM",
        "outputId": "b61ac698-52de-44c3-9d65-95ce28e7e255"
      },
      "execution_count": null,
      "outputs": [
        {
          "output_type": "execute_result",
          "data": {
            "text/plain": [
              "'Ali'"
            ],
            "application/vnd.google.colaboratory.intrinsic+json": {
              "type": "string"
            }
          },
          "metadata": {},
          "execution_count": 18
        }
      ]
    },
    {
      "cell_type": "code",
      "source": [
        "asd.get('Age')"
      ],
      "metadata": {
        "colab": {
          "base_uri": "https://localhost:8080/"
        },
        "id": "ACmg4jsoVkur",
        "outputId": "90ffc0a0-9366-486c-b5d4-00c9ecd85d34"
      },
      "execution_count": null,
      "outputs": [
        {
          "output_type": "execute_result",
          "data": {
            "text/plain": [
              "25"
            ]
          },
          "metadata": {},
          "execution_count": 20
        }
      ]
    },
    {
      "cell_type": "code",
      "source": [
        "asd.get('Phone', 'No info.')"
      ],
      "metadata": {
        "colab": {
          "base_uri": "https://localhost:8080/",
          "height": 35
        },
        "id": "Axi-hx2HVkxv",
        "outputId": "a4d0d493-fc21-44ad-c3c9-7158ccfe6c9a"
      },
      "execution_count": null,
      "outputs": [
        {
          "output_type": "execute_result",
          "data": {
            "text/plain": [
              "'No info.'"
            ],
            "application/vnd.google.colaboratory.intrinsic+json": {
              "type": "string"
            }
          },
          "metadata": {},
          "execution_count": 23
        }
      ]
    },
    {
      "cell_type": "code",
      "source": [
        "asd['Phone']=56466644"
      ],
      "metadata": {
        "id": "KK2KcNziVk3X"
      },
      "execution_count": null,
      "outputs": []
    },
    {
      "cell_type": "code",
      "source": [
        "asd"
      ],
      "metadata": {
        "colab": {
          "base_uri": "https://localhost:8080/"
        },
        "id": "o5kxclq8Vk6k",
        "outputId": "8f2a8ddb-4a35-47e3-9154-39b8cffc68c9"
      },
      "execution_count": null,
      "outputs": [
        {
          "output_type": "execute_result",
          "data": {
            "text/plain": [
              "{'Name': 'Ali', 'Sourname': 'Ak', 'Age': 25, 'Phone': 56466644}"
            ]
          },
          "metadata": {},
          "execution_count": 25
        }
      ]
    },
    {
      "cell_type": "code",
      "source": [
        "asd['Name']='Hasan'"
      ],
      "metadata": {
        "id": "RLwtdIumVlE-"
      },
      "execution_count": null,
      "outputs": []
    },
    {
      "cell_type": "code",
      "source": [
        "asd"
      ],
      "metadata": {
        "colab": {
          "base_uri": "https://localhost:8080/"
        },
        "id": "LwYruOT4VlLu",
        "outputId": "cacce70c-bc1d-41b8-e143-aed36a9e1c19"
      },
      "execution_count": null,
      "outputs": [
        {
          "output_type": "execute_result",
          "data": {
            "text/plain": [
              "{'Name': 'Hasan', 'Sourname': 'Ak', 'Age': 25, 'Phone': 56466644}"
            ]
          },
          "metadata": {},
          "execution_count": 27
        }
      ]
    },
    {
      "cell_type": "code",
      "source": [
        "asd.update({'Age':36,'Phone':11111})"
      ],
      "metadata": {
        "id": "uXkqKjBcWrQH"
      },
      "execution_count": null,
      "outputs": []
    },
    {
      "cell_type": "code",
      "source": [
        "asd"
      ],
      "metadata": {
        "colab": {
          "base_uri": "https://localhost:8080/"
        },
        "id": "J0KlG8EFW5TH",
        "outputId": "fd1eb814-5922-4d96-fc5e-d5387187d784"
      },
      "execution_count": null,
      "outputs": [
        {
          "output_type": "execute_result",
          "data": {
            "text/plain": [
              "{'Name': 'Hasan', 'Sourname': 'Ak', 'Age': 36, 'Phone': 11111}"
            ]
          },
          "metadata": {},
          "execution_count": 29
        }
      ]
    },
    {
      "cell_type": "code",
      "source": [
        "del asd['Sourname']"
      ],
      "metadata": {
        "id": "K4E5zlrTWrTr"
      },
      "execution_count": null,
      "outputs": []
    },
    {
      "cell_type": "code",
      "source": [
        "asd"
      ],
      "metadata": {
        "colab": {
          "base_uri": "https://localhost:8080/"
        },
        "id": "fB6xkZ-PWrWp",
        "outputId": "1aa6ce09-8192-45e6-e3d2-80e38b66f1a7"
      },
      "execution_count": null,
      "outputs": [
        {
          "output_type": "execute_result",
          "data": {
            "text/plain": [
              "{'Name': 'Hasan', 'Age': 36, 'Phone': 11111}"
            ]
          },
          "metadata": {},
          "execution_count": 31
        }
      ]
    },
    {
      "cell_type": "code",
      "source": [
        "phone=asd.pop('Phone')"
      ],
      "metadata": {
        "id": "Rebe1JkKWraR"
      },
      "execution_count": null,
      "outputs": []
    },
    {
      "cell_type": "code",
      "source": [
        "phone"
      ],
      "metadata": {
        "colab": {
          "base_uri": "https://localhost:8080/"
        },
        "id": "0cKO-zzTWrdm",
        "outputId": "85cc7960-d59a-4396-8bc2-eaba39dbe26d"
      },
      "execution_count": null,
      "outputs": [
        {
          "output_type": "execute_result",
          "data": {
            "text/plain": [
              "11111"
            ]
          },
          "metadata": {},
          "execution_count": 33
        }
      ]
    },
    {
      "cell_type": "code",
      "source": [
        "len(asd)"
      ],
      "metadata": {
        "colab": {
          "base_uri": "https://localhost:8080/"
        },
        "id": "olzcaF3LWrgJ",
        "outputId": "96cf4508-0e7b-40b8-e962-524992f66b3c"
      },
      "execution_count": null,
      "outputs": [
        {
          "output_type": "execute_result",
          "data": {
            "text/plain": [
              "2"
            ]
          },
          "metadata": {},
          "execution_count": 34
        }
      ]
    },
    {
      "cell_type": "code",
      "source": [
        "asd.keys()"
      ],
      "metadata": {
        "colab": {
          "base_uri": "https://localhost:8080/"
        },
        "id": "jPZz3npIWrje",
        "outputId": "9240fa5e-17bb-410e-d685-af5e35a2a21a"
      },
      "execution_count": null,
      "outputs": [
        {
          "output_type": "execute_result",
          "data": {
            "text/plain": [
              "dict_keys(['Name', 'Age'])"
            ]
          },
          "metadata": {},
          "execution_count": 35
        }
      ]
    },
    {
      "cell_type": "code",
      "source": [
        "asd.values()"
      ],
      "metadata": {
        "colab": {
          "base_uri": "https://localhost:8080/"
        },
        "id": "PuDzhLakWrnR",
        "outputId": "83f98f4f-ed0d-4b41-8bbd-0151f4654112"
      },
      "execution_count": null,
      "outputs": [
        {
          "output_type": "execute_result",
          "data": {
            "text/plain": [
              "dict_values(['Hasan', 36])"
            ]
          },
          "metadata": {},
          "execution_count": 36
        }
      ]
    },
    {
      "cell_type": "code",
      "source": [
        "asd.items()"
      ],
      "metadata": {
        "colab": {
          "base_uri": "https://localhost:8080/"
        },
        "id": "eArWl6UQWrqz",
        "outputId": "a75a248f-2c7b-4546-947a-8d6395509a7d"
      },
      "execution_count": null,
      "outputs": [
        {
          "output_type": "execute_result",
          "data": {
            "text/plain": [
              "dict_items([('Name', 'Hasan'), ('Age', 36)])"
            ]
          },
          "metadata": {},
          "execution_count": 37
        }
      ]
    },
    {
      "cell_type": "code",
      "source": [
        "for x in asd.keys():\n",
        "  print(x)"
      ],
      "metadata": {
        "colab": {
          "base_uri": "https://localhost:8080/"
        },
        "id": "ctiZ8aV2WrtW",
        "outputId": "7f89e043-3c86-49ef-faeb-63188260cf49"
      },
      "execution_count": null,
      "outputs": [
        {
          "output_type": "stream",
          "name": "stdout",
          "text": [
            "Name\n",
            "Age\n"
          ]
        }
      ]
    },
    {
      "cell_type": "code",
      "source": [
        "for x in asd.values():\n",
        "  print(x)"
      ],
      "metadata": {
        "colab": {
          "base_uri": "https://localhost:8080/"
        },
        "id": "YuQGJcHTXmTl",
        "outputId": "c4fce142-00b6-497e-aef9-a6b893343959"
      },
      "execution_count": null,
      "outputs": [
        {
          "output_type": "stream",
          "name": "stdout",
          "text": [
            "Hasan\n",
            "36\n"
          ]
        }
      ]
    },
    {
      "cell_type": "code",
      "source": [
        "for x in asd.items():\n",
        "  print(x)"
      ],
      "metadata": {
        "colab": {
          "base_uri": "https://localhost:8080/"
        },
        "id": "3Huf3MaMXmet",
        "outputId": "5bc420bd-f135-41ea-f592-8fed08e1eccc"
      },
      "execution_count": null,
      "outputs": [
        {
          "output_type": "stream",
          "name": "stdout",
          "text": [
            "('Name', 'Hasan')\n",
            "('Age', 36)\n"
          ]
        }
      ]
    },
    {
      "cell_type": "code",
      "source": [
        "for x,y in asd.items():\n",
        "  print(y,x)"
      ],
      "metadata": {
        "colab": {
          "base_uri": "https://localhost:8080/"
        },
        "id": "XaY0z8YXXmkA",
        "outputId": "7ef3da49-0e15-4ad5-ee07-a65e525321b3"
      },
      "execution_count": null,
      "outputs": [
        {
          "output_type": "stream",
          "name": "stdout",
          "text": [
            "Hasan Name\n",
            "36 Age\n"
          ]
        }
      ]
    },
    {
      "cell_type": "code",
      "source": [
        "for x,y in asd.items():\n",
        "  print(x,y)"
      ],
      "metadata": {
        "colab": {
          "base_uri": "https://localhost:8080/"
        },
        "id": "kYYIzcsxXmnl",
        "outputId": "54dcdeeb-2598-40d0-e358-93b456901eab"
      },
      "execution_count": null,
      "outputs": [
        {
          "output_type": "stream",
          "name": "stdout",
          "text": [
            "Name Hasan\n",
            "Age 36\n"
          ]
        }
      ]
    },
    {
      "cell_type": "markdown",
      "source": [
        "# List Compherension"
      ],
      "metadata": {
        "id": "mTgfAgokeLrW"
      }
    },
    {
      "cell_type": "code",
      "source": [
        "das=[1,2,3,4,5,6,7,8,9]\n",
        "my_list=[]\n",
        "for n in das:\n",
        "  my_list.append(n)\n",
        "print(my_list)\n"
      ],
      "metadata": {
        "colab": {
          "base_uri": "https://localhost:8080/"
        },
        "id": "7Tshh0MY-i4H",
        "outputId": "a5a78dc6-797d-488e-e28b-c225f6fb2b8a"
      },
      "execution_count": 70,
      "outputs": [
        {
          "output_type": "stream",
          "name": "stdout",
          "text": [
            "[1, 2, 3, 4, 5, 6, 7, 8, 9]\n"
          ]
        }
      ]
    },
    {
      "cell_type": "code",
      "source": [
        "das=[1,2,3,4,5,6,7,8,9]\n",
        "my_list=[]\n",
        "for n in das:\n",
        "  if n%2!=0:\n",
        "    my_list.append(n)\n",
        "print(my_list)"
      ],
      "metadata": {
        "colab": {
          "base_uri": "https://localhost:8080/"
        },
        "id": "xWKkOS60XPDT",
        "outputId": "7aa6786c-92c9-49c7-eab9-34a4bc399187"
      },
      "execution_count": 71,
      "outputs": [
        {
          "output_type": "stream",
          "name": "stdout",
          "text": [
            "[1, 3, 5, 7, 9]\n"
          ]
        }
      ]
    },
    {
      "cell_type": "code",
      "source": [
        "my_list=[n for n in das if n%2!=0 and n%3==0 if n==3*3]\n",
        "my_list"
      ],
      "metadata": {
        "colab": {
          "base_uri": "https://localhost:8080/"
        },
        "id": "yb2Jae76XPJ4",
        "outputId": "d9aca61f-e9ae-4a79-aaa8-edd4a2d5db41"
      },
      "execution_count": 82,
      "outputs": [
        {
          "output_type": "execute_result",
          "data": {
            "text/plain": [
              "[9]"
            ]
          },
          "metadata": {},
          "execution_count": 82
        }
      ]
    },
    {
      "cell_type": "code",
      "source": [
        "qw=[1,2,3,4,5]\n",
        "er='abcde'\n",
        "my_file=[]\n",
        "for x in qw:\n",
        "  for y in er:\n",
        "    my_file.append((x,y))\n",
        "print(my_file)\n"
      ],
      "metadata": {
        "colab": {
          "base_uri": "https://localhost:8080/"
        },
        "id": "bW0qTalMXPOh",
        "outputId": "f971b06c-6922-4f3f-be73-83acbe045784"
      },
      "execution_count": 101,
      "outputs": [
        {
          "output_type": "stream",
          "name": "stdout",
          "text": [
            "[(1, 'a'), (1, 'b'), (1, 'c'), (1, 'd'), (1, 'e'), (2, 'a'), (2, 'b'), (2, 'c'), (2, 'd'), (2, 'e'), (3, 'a'), (3, 'b'), (3, 'c'), (3, 'd'), (3, 'e'), (4, 'a'), (4, 'b'), (4, 'c'), (4, 'd'), (4, 'e'), (5, 'a'), (5, 'b'), (5, 'c'), (5, 'd'), (5, 'e')]\n"
          ]
        }
      ]
    },
    {
      "cell_type": "code",
      "source": [
        "my_file=[(x,y) for x in qw for y in er if x%2==0]\n",
        "print(my_file)"
      ],
      "metadata": {
        "colab": {
          "base_uri": "https://localhost:8080/"
        },
        "id": "iTwoRsdsXPTd",
        "outputId": "ed5ab0c9-5023-43e0-c37f-50c2d67da2e1"
      },
      "execution_count": 102,
      "outputs": [
        {
          "output_type": "stream",
          "name": "stdout",
          "text": [
            "[(2, 'a'), (2, 'b'), (2, 'c'), (2, 'd'), (2, 'e'), (4, 'a'), (4, 'b'), (4, 'c'), (4, 'd'), (4, 'e')]\n"
          ]
        }
      ]
    },
    {
      "cell_type": "code",
      "source": [
        "my_file=[(x,y) for x,y in zip(qw,er) if x%2==0]\n",
        "print(my_file)"
      ],
      "metadata": {
        "colab": {
          "base_uri": "https://localhost:8080/"
        },
        "id": "VJ4rXkhWXPY2",
        "outputId": "5ac99c45-8dd8-44a7-e606-c1f5fee2ac40"
      },
      "execution_count": 103,
      "outputs": [
        {
          "output_type": "stream",
          "name": "stdout",
          "text": [
            "[(2, 'b'), (4, 'd')]\n"
          ]
        }
      ]
    },
    {
      "cell_type": "code",
      "source": [
        "print(*zip(qw,er))"
      ],
      "metadata": {
        "colab": {
          "base_uri": "https://localhost:8080/"
        },
        "id": "gxZJV2dSXPbu",
        "outputId": "bd74b9e0-aa94-4a92-95a1-43a564b8766c"
      },
      "execution_count": 109,
      "outputs": [
        {
          "output_type": "stream",
          "name": "stdout",
          "text": [
            "(1, 'a') (2, 'b') (3, 'c') (4, 'd') (5, 'e')\n"
          ]
        }
      ]
    },
    {
      "cell_type": "code",
      "source": [
        "my_dor={}\n",
        "for x,y in zip(qw, er):\n",
        "  my_dor[x]=y\n",
        "print(my_dor)\n"
      ],
      "metadata": {
        "colab": {
          "base_uri": "https://localhost:8080/"
        },
        "id": "esqwjRkn-i7J",
        "outputId": "633dbae7-548d-43f9-e2ff-ef84a5cc6879"
      },
      "execution_count": 110,
      "outputs": [
        {
          "output_type": "stream",
          "name": "stdout",
          "text": [
            "{1: 'a', 2: 'b', 3: 'c', 4: 'd', 5: 'e'}\n"
          ]
        }
      ]
    },
    {
      "cell_type": "code",
      "source": [
        "my_dor={x:y for x,y in zip(qw,er)}\n",
        "print(my_dor)"
      ],
      "metadata": {
        "colab": {
          "base_uri": "https://localhost:8080/"
        },
        "id": "C8pt0aIefeKo",
        "outputId": "d6f5877c-0ce8-452d-f43f-1da3cdb32b8b"
      },
      "execution_count": 111,
      "outputs": [
        {
          "output_type": "stream",
          "name": "stdout",
          "text": [
            "{1: 'a', 2: 'b', 3: 'c', 4: 'd', 5: 'e'}\n"
          ]
        }
      ]
    },
    {
      "cell_type": "code",
      "source": [
        "for i in my_dor.keys():\n",
        "  for n in my_dor.values():\n",
        "     gf=print((i,n))"
      ],
      "metadata": {
        "id": "r_7AhuO_feT3"
      },
      "execution_count": null,
      "outputs": []
    },
    {
      "cell_type": "code",
      "source": [
        "nums=[1,1,1,2,2,2,5,5,5,4,5,5,6,6,5,7,7,7,8,8,9,9,9,6,6,5,5,4,4]\n",
        "ad=set(nums)\n",
        "ad"
      ],
      "metadata": {
        "colab": {
          "base_uri": "https://localhost:8080/"
        },
        "id": "gB7TvSbIiMyn",
        "outputId": "cc3b5ff5-a4c3-44aa-fc83-df4a759ae18f"
      },
      "execution_count": 135,
      "outputs": [
        {
          "output_type": "execute_result",
          "data": {
            "text/plain": [
              "{1, 2, 4, 5, 6, 7, 8, 9}"
            ]
          },
          "metadata": {},
          "execution_count": 135
        }
      ]
    },
    {
      "cell_type": "code",
      "source": [
        "dfg=set()\n",
        "for i in nums:\n",
        "  dfg.add(i)\n",
        "print(dfg)\n"
      ],
      "metadata": {
        "colab": {
          "base_uri": "https://localhost:8080/"
        },
        "id": "CCmscgH0iM1m",
        "outputId": "5e99eb97-2813-442a-d6ae-942b5e912d42"
      },
      "execution_count": 136,
      "outputs": [
        {
          "output_type": "stream",
          "name": "stdout",
          "text": [
            "{1, 2, 4, 5, 6, 7, 8, 9}\n"
          ]
        }
      ]
    },
    {
      "cell_type": "code",
      "source": [
        "dfg={i for i in nums}\n",
        "print(dfg)"
      ],
      "metadata": {
        "colab": {
          "base_uri": "https://localhost:8080/"
        },
        "id": "6dVX5M0aiM4a",
        "outputId": "e169699b-9f65-4bf5-e7d9-f5ccf2465ef9"
      },
      "execution_count": 138,
      "outputs": [
        {
          "output_type": "stream",
          "name": "stdout",
          "text": [
            "{1, 2, 4, 5, 6, 7, 8, 9}\n"
          ]
        }
      ]
    },
    {
      "cell_type": "code",
      "source": [],
      "metadata": {
        "id": "n7KVcwVCiM63"
      },
      "execution_count": null,
      "outputs": []
    },
    {
      "cell_type": "code",
      "source": [],
      "metadata": {
        "id": "x8pNFx55iM9U"
      },
      "execution_count": null,
      "outputs": []
    },
    {
      "cell_type": "code",
      "source": [],
      "metadata": {
        "id": "esOyIUqT-i-G"
      },
      "execution_count": null,
      "outputs": []
    },
    {
      "cell_type": "markdown",
      "source": [
        "# if- Else Statement"
      ],
      "metadata": {
        "id": "diMLs87JeRDI"
      }
    },
    {
      "cell_type": "markdown",
      "source": [],
      "metadata": {
        "id": "KEJ3HlnSgz-g"
      }
    },
    {
      "cell_type": "code",
      "source": [
        "yunus=int(input())\n",
        "asi=input('Do I need to work here:' )\n",
        "if yunus > 35 and asi=='Yes':\n",
        "       print('You have to work min. by 80%.')\n",
        "elif yunus > 35 and asi=='No':\n",
        "       print('I wanna ask you there is how many option for me?')\n",
        "elif yunus<35:\n",
        "  if asi=='Yes':\n",
        "    print('There is no rules like this.I dont need to work here.')\n",
        "  else:\n",
        "    print('You have severel options here.YOU CAN CHOOSE.')\n",
        "elif yunus==35 :\n",
        "  if asi=='No':\n",
        "    print('You have to decide immediately about your career plan.')\n",
        "  else:\n",
        "      print('I will find another solution.')\n",
        "else :\n",
        "    print('You have to change your assitance with new one.')"
      ],
      "metadata": {
        "id": "S-3iwmxVjOLI"
      },
      "execution_count": null,
      "outputs": []
    },
    {
      "cell_type": "code",
      "source": [
        "yunus=int(input())\n",
        "asi=input('Do I need to work here:' ).title()\n",
        "if yunus > 35 and asi=='Yes':\n",
        "       print('You have to work min. by 80%.')\n",
        "elif yunus > 35 and asi=='No':\n",
        "       print('I wanna ask you there is how many option for me?')\n",
        "elif yunus<35:\n",
        "  if asi =='Yes':\n",
        "    print('There is no rules like this.I dont need to work here.')\n",
        "  else:\n",
        "    print('You have severel options here.YOU CAN CHOOSE.')\n",
        "elif yunus==35 :\n",
        "  if asi=='No':\n",
        "    print('You have to decide immediately about your career plan.')\n",
        "  else:\n",
        "      print('I will find another solution.')\n",
        "else :\n",
        "    print('You have to change your assitance with new one.')"
      ],
      "metadata": {
        "colab": {
          "base_uri": "https://localhost:8080/"
        },
        "id": "2Rwj93DQjOUg",
        "outputId": "80b347ff-b1bf-46c3-e81d-7858ecdef2e4"
      },
      "execution_count": null,
      "outputs": [
        {
          "output_type": "stream",
          "name": "stdout",
          "text": [
            "45\n",
            "Do I need to work here:no\n",
            "I wanna ask you there is how many option for me?\n"
          ]
        }
      ]
    },
    {
      "cell_type": "code",
      "source": [
        "yunus=int(input())\n",
        "asi=input('Do I need to work here:' ).title()\n",
        "if yunus > 35 and asi=='Yes':\n",
        "       print('You have to work min. by 80%.')\n",
        "       my_answer=input().title()\n",
        "       if my_answer=='No':\n",
        "         print('We will reduce your money by 20%.')\n",
        "elif yunus > 35 and asi=='No':\n",
        "       print('I wanna ask you there is how many option for me?')\n",
        "elif yunus<35:\n",
        "  if asi =='Yes':\n",
        "    print('There is no rules like this.I dont need to work here.')\n",
        "  else:\n",
        "    print('You have severel options here.YOU CAN CHOOSE.')\n",
        "elif yunus==35 :\n",
        "  if asi=='No':\n",
        "    print('You have to decide immediately about your career plan.')\n",
        "  else:\n",
        "      print('I will find another solution.')\n",
        "else :\n",
        "    print('You have to change your assitance with new one.')\n"
      ],
      "metadata": {
        "id": "uCXM_VKT6uGi"
      },
      "execution_count": null,
      "outputs": []
    },
    {
      "cell_type": "code",
      "source": [
        "city_1=['Adana','Samsun','Kayseri','Muğla']\n",
        "city_2=['Muş','Aydın','Bolu']\n",
        "city=input().title()\n",
        "tax_1=0.8\n",
        "tax_2=0.3\n",
        "price=int(input())\n",
        "if city in city_1 and price>=10 :\n",
        "  print(tax_1)\n",
        "elif city in city_1 and price<10:\n",
        "  print(tax_2)\n",
        "elif city in city_2 and price>=10:\n",
        "  print(tax_2)\n",
        "else:\n",
        "  print('No extra charge')"
      ],
      "metadata": {
        "id": "02xZe1rvjObn"
      },
      "execution_count": null,
      "outputs": []
    },
    {
      "cell_type": "code",
      "source": [
        "audi=['Teen','Young','Adult','Retired','Veteran']\n",
        "status=input().title()\n",
        "\n",
        "if status=='Retired' or status=='Veteran': \n",
        "    print('Don\\'t ask age.')\n",
        "elif status=='Adult':\n",
        "      age=int(input())\n",
        "      if age >45:\n",
        "        print('%60 discount')\n",
        "      else :\n",
        "        print('Normal Price')\n",
        "elif  status=='Teen':\n",
        "  print('%80 Discount')\n",
        "elif status=='Young':\n",
        "  print('%45 discount.')\n",
        "else:\n",
        "  print('Here is no place bro!!!')\n",
        "  \n",
        "  \n",
        "\n",
        "  \n"
      ],
      "metadata": {
        "colab": {
          "base_uri": "https://localhost:8080/"
        },
        "id": "skg3G0YUjOiY",
        "outputId": "42073716-ced2-4b68-9e28-ff4810eace3e"
      },
      "execution_count": null,
      "outputs": [
        {
          "output_type": "stream",
          "name": "stdout",
          "text": [
            "gajs\n",
            "Here is no place bro!!!\n"
          ]
        }
      ]
    },
    {
      "cell_type": "code",
      "source": [
        "audi=['Teen','Young','Adult','Retired','Veteran']\n",
        "status=input().title()\n",
        "\n",
        "if status=='Retired' or status=='Veteran': \n",
        "    print('Don\\'t ask age.')\n",
        "elif status=='Adult':\n",
        "      age=int(input())\n",
        "      if age >45:\n",
        "        print('%60 discount')\n",
        "      else :\n",
        "        print('Normal Price')\n",
        "elif  status=='Teen':\n",
        "  print('%80 Discount')\n",
        "elif status=='Young':\n",
        "  age=int(input())\n",
        "  if age<24:\n",
        "    print('%45 discount.')\n",
        "  else:\n",
        "    print('%55 Discount')\n",
        "else:\n",
        "  print('Here is no place bro!!!')"
      ],
      "metadata": {
        "colab": {
          "base_uri": "https://localhost:8080/"
        },
        "id": "kBblz8q0jOrq",
        "outputId": "191d304d-7f0a-4664-8c0f-38cc64e122d8"
      },
      "execution_count": null,
      "outputs": [
        {
          "output_type": "stream",
          "name": "stdout",
          "text": [
            "young\n",
            "25\n",
            "%55 Discount\n"
          ]
        }
      ]
    },
    {
      "cell_type": "code",
      "source": [
        "audi=['Teen','Young','Adult','Retired','Veteran']\n",
        "status=input().title()\n",
        "\n",
        "if status in audi:\n",
        "  if status=='Retired' or status=='Veteran': \n",
        "    print('Don\\'t ask age.')\n",
        "  elif status=='Adult':\n",
        "      age=int(input())\n",
        "      if age >45:\n",
        "        print('%60 discount')\n",
        "      else :\n",
        "        print('Normal Price')\n",
        "  elif  status=='Teen':\n",
        "    print('%80 Discount')\n",
        "  elif status=='Young':\n",
        "    print('%45 discount.')\n",
        "else:\n",
        "  print('Here is no place bro!!!')"
      ],
      "metadata": {
        "colab": {
          "base_uri": "https://localhost:8080/"
        },
        "id": "QLSjmXSijOu5",
        "outputId": "c233e7cb-9489-4980-bbde-a04995ee5f8e"
      },
      "execution_count": null,
      "outputs": [
        {
          "output_type": "stream",
          "name": "stdout",
          "text": [
            "ali\n",
            "Here is no place bro!!!\n"
          ]
        }
      ]
    },
    {
      "cell_type": "code",
      "source": [
        "audi=['Teen','Young','Adult','Retired','Veteran']\n",
        "\n",
        "status=input().title()\n",
        "if status in audi:\n",
        "  if status=='Retired'or status=='Veteran':\n",
        "    print('Noprice')\n",
        "  elif status=='Teen'or status=='Young':\n",
        "    print('%45 discount')\n",
        "  elif status=='Adult':\n",
        "    age=int(input('İnput your age:'))\n",
        "    discount=age/2\n",
        "    print(f'Discount will be apply by half age rate.Your age is {age} and discount is %{discount}.')\n",
        "else:\n",
        "  print('There is no place for you bro.')\n"
      ],
      "metadata": {
        "colab": {
          "base_uri": "https://localhost:8080/"
        },
        "id": "9YajhGGLjO0Y",
        "outputId": "68dfb78b-d3b0-4c28-d041-785fcfc868da"
      },
      "execution_count": null,
      "outputs": [
        {
          "output_type": "stream",
          "name": "stdout",
          "text": [
            "sfvf\n",
            "There is no place for you bro.\n"
          ]
        }
      ]
    },
    {
      "cell_type": "markdown",
      "source": [
        "#Conditionals And Booleans"
      ],
      "metadata": {
        "id": "PMMzNKxCa3PY"
      }
    },
    {
      "cell_type": "code",
      "source": [
        "age=int(input())\n",
        "if 21<=age<=63:\n",
        "  good_age=True\n",
        "else:\n",
        "  good_age=False\n",
        "if good_age:\n",
        "  print('OOO SUPER')\n",
        "else :\n",
        "  print('Think again.')"
      ],
      "metadata": {
        "id": "PvDe80F3iU1l"
      },
      "execution_count": null,
      "outputs": []
    },
    {
      "cell_type": "code",
      "source": [
        "life='Good'\n",
        "if life=='Good':\n",
        "  print('Life is worth for live.')\n",
        "else:\n",
        "  print('That is not your choice.')"
      ],
      "metadata": {
        "colab": {
          "base_uri": "https://localhost:8080/"
        },
        "id": "ZLmEEoPabExF",
        "outputId": "a1219006-1aca-4100-9248-629004fb4e4e"
      },
      "execution_count": null,
      "outputs": [
        {
          "output_type": "stream",
          "name": "stdout",
          "text": [
            "Life is worth for live.\n"
          ]
        }
      ]
    },
    {
      "cell_type": "code",
      "source": [],
      "metadata": {
        "id": "uuepdDXdbE61"
      },
      "execution_count": null,
      "outputs": []
    },
    {
      "cell_type": "code",
      "source": [],
      "metadata": {
        "id": "j88S-gAybE-H"
      },
      "execution_count": null,
      "outputs": []
    },
    {
      "cell_type": "code",
      "source": [],
      "metadata": {
        "id": "KqECGJcsbFAl"
      },
      "execution_count": null,
      "outputs": []
    },
    {
      "cell_type": "markdown",
      "source": [
        "# For Loop"
      ],
      "metadata": {
        "id": "GjiG1C53eXAR"
      }
    },
    {
      "cell_type": "code",
      "source": [
        "nums=list(range(1,6))\n",
        "for num in nums:\n",
        "  print(num)\n",
        "  \n"
      ],
      "metadata": {
        "colab": {
          "base_uri": "https://localhost:8080/"
        },
        "id": "ie1QfZQjfZhv",
        "outputId": "2f25e85b-ff2a-48bd-bfcf-b11ab1ea0dae"
      },
      "execution_count": null,
      "outputs": [
        {
          "output_type": "stream",
          "name": "stdout",
          "text": [
            "1\n",
            "2\n",
            "3\n",
            "4\n",
            "5\n"
          ]
        }
      ]
    },
    {
      "cell_type": "code",
      "source": [
        "ax=list(range(1,6))\n",
        "for num in nums:\n",
        "  if num==3:\n",
        "    print('Found it!!')\n",
        "    break\n",
        "  print(num)"
      ],
      "metadata": {
        "colab": {
          "base_uri": "https://localhost:8080/"
        },
        "id": "Kgs67LRzfZmw",
        "outputId": "0f1f6a65-4a0a-43af-fbec-e30d876a4c10"
      },
      "execution_count": null,
      "outputs": [
        {
          "output_type": "stream",
          "name": "stdout",
          "text": [
            "1\n",
            "2\n",
            "Found it!!\n"
          ]
        }
      ]
    },
    {
      "cell_type": "code",
      "source": [
        "nums=list(range(1,6))\n",
        "for num in nums:\n",
        "  if num==3:\n",
        "    print('Found it!!')\n",
        "    continue\n",
        "  print(num)"
      ],
      "metadata": {
        "colab": {
          "base_uri": "https://localhost:8080/"
        },
        "id": "omfQffElfZsr",
        "outputId": "0e314fa4-76d2-4e5f-b9ca-2f330f1dc75d"
      },
      "execution_count": null,
      "outputs": [
        {
          "output_type": "stream",
          "name": "stdout",
          "text": [
            "1\n",
            "2\n",
            "Found it!!\n",
            "4\n",
            "5\n"
          ]
        }
      ]
    },
    {
      "cell_type": "code",
      "source": [
        "from ast import Break\n",
        "nums=list(range(1,11))\n",
        "for num in nums:\n",
        "  for life in ['Life is art.']:\n",
        "    if num==3:\n",
        "      print(num, life)\n",
        "    break\n",
        "   \n"
      ],
      "metadata": {
        "colab": {
          "base_uri": "https://localhost:8080/"
        },
        "id": "k65vrZCvfZxF",
        "outputId": "d7f78544-9862-45f9-ce7b-178925b1e50c"
      },
      "execution_count": null,
      "outputs": [
        {
          "output_type": "stream",
          "name": "stdout",
          "text": [
            "3 Love is art.\n"
          ]
        }
      ]
    },
    {
      "cell_type": "code",
      "source": [
        "from ast import Break\n",
        "nums=list(range(1,11))\n",
        "for num in nums:\n",
        "  for life in ['Life is art.']:\n",
        "    print(num,life)\n",
        "    if num%2==1:\n",
        "      print('For anybody.') \n",
        "    else:\n",
        "      print('Everybody deserves it.')\n",
        "  \n",
        "   "
      ],
      "metadata": {
        "colab": {
          "base_uri": "https://localhost:8080/"
        },
        "id": "N6b2L_QggulS",
        "outputId": "58ee5879-1ac2-4150-9644-2c12229fa738"
      },
      "execution_count": null,
      "outputs": [
        {
          "output_type": "stream",
          "name": "stdout",
          "text": [
            "For you and me\n",
            "Everybody deserve it.\n",
            "For you and me\n",
            "Everybody deserve it.\n",
            "For you and me\n",
            "Everybody deserve it.\n",
            "For you and me\n",
            "Everybody deserve it.\n",
            "For you and me\n",
            "Everybody deserve it.\n"
          ]
        }
      ]
    },
    {
      "cell_type": "code",
      "source": [
        "from ast import Break\n",
        "nums=list(range(1,11))\n",
        "for num in nums:\n",
        "  for life in ['Life is art.']:\n",
        "    print(num,life)\n",
        "    if num%2==1:\n",
        "      print('For anybody.') \n",
        "    else:\n",
        "      print('Everybody deserves it.')"
      ],
      "metadata": {
        "colab": {
          "base_uri": "https://localhost:8080/"
        },
        "id": "Ea7k7bzqguqt",
        "outputId": "06716948-2f8c-4b18-aaa0-a462d0102a93"
      },
      "execution_count": null,
      "outputs": [
        {
          "output_type": "stream",
          "name": "stdout",
          "text": [
            "1 Love is art.\n",
            "For you and me\n",
            "2 Love is art.\n",
            "Everybody deserve it.\n",
            "3 Love is art.\n",
            "For you and me\n",
            "4 Love is art.\n",
            "Everybody deserve it.\n",
            "5 Love is art.\n",
            "For you and me\n",
            "6 Love is art.\n",
            "Everybody deserve it.\n",
            "7 Love is art.\n",
            "For you and me\n",
            "8 Love is art.\n",
            "Everybody deserve it.\n",
            "9 Love is art.\n",
            "For you and me\n",
            "10 Love is art.\n",
            "Everybody deserve it.\n"
          ]
        }
      ]
    },
    {
      "cell_type": "code",
      "source": [
        "from ast import Break\n",
        "nums=list(range(1,11))\n",
        "for num in nums:\n",
        "  for life in ['Life is art.']:\n",
        "    if num%2==1:\n",
        "      print('For anybody.') \n",
        "    else:\n",
        "      print('Everybody deserves it.')"
      ],
      "metadata": {
        "colab": {
          "base_uri": "https://localhost:8080/"
        },
        "id": "0FH_gLyNguvn",
        "outputId": "4bcf4347-4328-4649-a6ea-99a58a4c2f81"
      },
      "execution_count": null,
      "outputs": [
        {
          "output_type": "stream",
          "name": "stdout",
          "text": [
            "For you and me\n",
            "Everybody deserve it.\n",
            "For you and me\n",
            "Everybody deserve it.\n",
            "For you and me\n",
            "Everybody deserve it.\n",
            "For you and me\n",
            "Everybody deserve it.\n",
            "For you and me\n",
            "Everybody deserve it.\n"
          ]
        }
      ]
    },
    {
      "cell_type": "code",
      "source": [
        "from ast import Break\n",
        "nums=list(range(1,11))\n",
        "for num in nums:\n",
        "  for life in ['Life is art.']:\n",
        "    if num==3:\n",
        "      print('For anybody.') \n",
        "    else:\n",
        "      print('Everybody deserves it.')"
      ],
      "metadata": {
        "colab": {
          "base_uri": "https://localhost:8080/"
        },
        "id": "6DcsA0Jeguzg",
        "outputId": "17ff808a-dffa-4124-bbaf-ecf46b4b3e1a"
      },
      "execution_count": null,
      "outputs": [
        {
          "output_type": "stream",
          "name": "stdout",
          "text": [
            "Everybody deserve it.\n",
            "Everybody deserve it.\n",
            "For you and me\n",
            "Everybody deserve it.\n",
            "Everybody deserve it.\n",
            "Everybody deserve it.\n",
            "Everybody deserve it.\n",
            "Everybody deserve it.\n",
            "Everybody deserve it.\n",
            "Everybody deserve it.\n"
          ]
        }
      ]
    },
    {
      "cell_type": "code",
      "source": [
        "awe=range(1,12)\n",
        "ax=list(awe)\n",
        "ax\n"
      ],
      "metadata": {
        "colab": {
          "base_uri": "https://localhost:8080/"
        },
        "id": "oaH6rU5sWeVu",
        "outputId": "8fc70b23-95e5-4830-a395-5e8226613308"
      },
      "execution_count": 54,
      "outputs": [
        {
          "output_type": "execute_result",
          "data": {
            "text/plain": [
              "[1, 2, 3, 4, 5, 6, 7, 8, 9, 10, 11]"
            ]
          },
          "metadata": {},
          "execution_count": 54
        }
      ]
    },
    {
      "cell_type": "code",
      "source": [
        "for i in ax:\n",
        "  if i==3:\n",
        "    print('İSVİÇRE')\n",
        "    continue\n",
        "  elif i%2==0 and i!=8:\n",
        "    print('KATAR')\n",
        "    pass\n",
        "  elif i==8:\n",
        "    print('TÜRKİYE')\n",
        "    break\n",
        "  print(i)"
      ],
      "metadata": {
        "id": "VSmylneTgu3A",
        "colab": {
          "base_uri": "https://localhost:8080/"
        },
        "outputId": "9bdc0577-c408-4eff-85a4-f5520a259264"
      },
      "execution_count": 59,
      "outputs": [
        {
          "output_type": "stream",
          "name": "stdout",
          "text": [
            "1\n",
            "KATAR\n",
            "2\n",
            "İSVİÇRE\n",
            "KATAR\n",
            "4\n",
            "5\n",
            "KATAR\n",
            "6\n",
            "7\n",
            "TÜRKİYE\n"
          ]
        }
      ]
    },
    {
      "cell_type": "code",
      "source": [
        "for i in ax:\n",
        "  if i==3:\n",
        "    print('İSVİÇRE')\n",
        "    continue\n",
        "  elif i%2==0 and i!=8:\n",
        "    print('KATAR')\n",
        "    pass\n",
        "  elif i==8:\n",
        "    print('TÜRKİYE')\n",
        "  elif i==11:\n",
        "    del ax[3:6]\n",
        "  else:\n",
        "    print('Lost')\n",
        "print(i)"
      ],
      "metadata": {
        "id": "qcuCRJ94gu9r",
        "colab": {
          "base_uri": "https://localhost:8080/"
        },
        "outputId": "1f17877f-bcc6-4c4d-bbbb-c0f8a78124bd"
      },
      "execution_count": 60,
      "outputs": [
        {
          "output_type": "stream",
          "name": "stdout",
          "text": [
            "Lost\n",
            "KATAR\n",
            "İSVİÇRE\n",
            "KATAR\n",
            "Lost\n",
            "KATAR\n",
            "Lost\n",
            "TÜRKİYE\n",
            "Lost\n",
            "KATAR\n",
            "11\n"
          ]
        }
      ]
    },
    {
      "cell_type": "code",
      "source": [],
      "metadata": {
        "id": "rgoo-PxcfZ1A"
      },
      "execution_count": null,
      "outputs": []
    },
    {
      "cell_type": "code",
      "source": [],
      "metadata": {
        "id": "2FQLwPxmfZ5_"
      },
      "execution_count": null,
      "outputs": []
    },
    {
      "cell_type": "code",
      "source": [],
      "metadata": {
        "id": "g6bLESu8fZ_f"
      },
      "execution_count": null,
      "outputs": []
    },
    {
      "cell_type": "markdown",
      "source": [
        "# While Loop"
      ],
      "metadata": {
        "id": "43gAQ7uYeaBZ"
      }
    },
    {
      "cell_type": "code",
      "source": [
        "asd=[1,5,4,8,6,7,4,5,3,5,4,5,6,2,3,6,54,4,7,8,5,4,5,2,1]\n",
        "x=1\n",
        "while x<len(asd):\n",
        "  print(set(asd))\n",
        "  if x==3:\n",
        "   break\n",
        "  x+=1"
      ],
      "metadata": {
        "colab": {
          "base_uri": "https://localhost:8080/"
        },
        "id": "jAPhW2RX-u_A",
        "outputId": "e159a97a-15b2-4d02-87b2-940dae9a7c46"
      },
      "execution_count": 1,
      "outputs": [
        {
          "output_type": "stream",
          "name": "stdout",
          "text": [
            "{1, 2, 3, 4, 5, 6, 7, 8, 54}\n",
            "{1, 2, 3, 4, 5, 6, 7, 8, 54}\n",
            "{1, 2, 3, 4, 5, 6, 7, 8, 54}\n"
          ]
        }
      ]
    },
    {
      "cell_type": "code",
      "source": [
        "asd=[1,5,4,8,6,7,4,5,3,5,4,5]\n",
        "x=0\n",
        "while x<len(asd):\n",
        "  print(set(asd))\n",
        "  if x==3:\n",
        "   pass\n",
        "  x+=1"
      ],
      "metadata": {
        "colab": {
          "base_uri": "https://localhost:8080/"
        },
        "id": "3R3nM7waRYR3",
        "outputId": "12d04d5d-c821-4477-86d8-a03dc808d6a2"
      },
      "execution_count": 10,
      "outputs": [
        {
          "output_type": "stream",
          "name": "stdout",
          "text": [
            "{1, 3, 4, 5, 6, 7, 8}\n",
            "{1, 3, 4, 5, 6, 7, 8}\n",
            "{1, 3, 4, 5, 6, 7, 8}\n",
            "{1, 3, 4, 5, 6, 7, 8}\n",
            "{1, 3, 4, 5, 6, 7, 8}\n",
            "{1, 3, 4, 5, 6, 7, 8}\n",
            "{1, 3, 4, 5, 6, 7, 8}\n",
            "{1, 3, 4, 5, 6, 7, 8}\n",
            "{1, 3, 4, 5, 6, 7, 8}\n",
            "{1, 3, 4, 5, 6, 7, 8}\n",
            "{1, 3, 4, 5, 6, 7, 8}\n",
            "{1, 3, 4, 5, 6, 7, 8}\n"
          ]
        }
      ]
    },
    {
      "cell_type": "code",
      "source": [
        "asd=[1,5,4,8,6,7,4,5,3,5,4,5]\n",
        "x=0\n",
        "while x<len(asd):\n",
        "  print(set(asd))\n",
        "  if x==3:\n",
        "   pass\n",
        "  elif x==5:\n",
        "    break\n",
        "  x+=1"
      ],
      "metadata": {
        "colab": {
          "base_uri": "https://localhost:8080/"
        },
        "id": "QF6iLA2nRYVN",
        "outputId": "cb42092f-b25d-4452-927c-ca2216574de6"
      },
      "execution_count": 17,
      "outputs": [
        {
          "output_type": "stream",
          "name": "stdout",
          "text": [
            "{1, 3, 4, 5, 6, 7, 8}\n",
            "{1, 3, 4, 5, 6, 7, 8}\n",
            "{1, 3, 4, 5, 6, 7, 8}\n",
            "{1, 3, 4, 5, 6, 7, 8}\n",
            "{1, 3, 4, 5, 6, 7, 8}\n",
            "{1, 3, 4, 5, 6, 7, 8}\n"
          ]
        }
      ]
    },
    {
      "cell_type": "code",
      "source": [
        "asd=[1,3,5,4,8,6,7,4,5,3,5,4,5]\n",
        "for x in asd:\n",
        "  print(set(asd))\n",
        "  if x==3:\n",
        "   print('None')\n",
        "   pass\n",
        "  elif x==5:\n",
        "    break\n",
        "   "
      ],
      "metadata": {
        "colab": {
          "base_uri": "https://localhost:8080/"
        },
        "id": "D1Y_TwniRYlb",
        "outputId": "bf87a1e3-24e5-415f-d573-2910ece79baf"
      },
      "execution_count": 23,
      "outputs": [
        {
          "output_type": "stream",
          "name": "stdout",
          "text": [
            "{1, 3, 4, 5, 6, 7, 8}\n",
            "{1, 3, 4, 5, 6, 7, 8}\n",
            "None\n",
            "{1, 3, 4, 5, 6, 7, 8}\n"
          ]
        }
      ]
    },
    {
      "cell_type": "code",
      "source": [
        "asd=[1,2,8,3,6,'5',4,8,6,7,4,5,3,5,4,5]\n",
        "for y in asd:\n",
        "  if y==6:\n",
        "   print('None')\n",
        "   pass\n",
        "  elif y==7:\n",
        "   break\n",
        "  print(y)"
      ],
      "metadata": {
        "colab": {
          "base_uri": "https://localhost:8080/"
        },
        "id": "sXZaP-N5RYou",
        "outputId": "22e24fe6-2b56-4a0f-ac60-e7a912e86299"
      },
      "execution_count": 47,
      "outputs": [
        {
          "output_type": "stream",
          "name": "stdout",
          "text": [
            "1\n",
            "2\n",
            "8\n",
            "3\n",
            "None\n",
            "6\n",
            "5\n",
            "4\n",
            "8\n",
            "None\n",
            "6\n"
          ]
        }
      ]
    },
    {
      "cell_type": "code",
      "source": [
        "asx=range(1,8)\n",
        "for y in asx:\n",
        "  if y==6:\n",
        "   print('None')\n",
        "   pass\n",
        "  elif y==7:\n",
        "   break\n",
        "  print(y)\n"
      ],
      "metadata": {
        "id": "vxUsaDBr-vU_",
        "colab": {
          "base_uri": "https://localhost:8080/"
        },
        "outputId": "f4e1bc0f-8e88-4a4b-9899-11a61907f9d5"
      },
      "execution_count": 51,
      "outputs": [
        {
          "output_type": "stream",
          "name": "stdout",
          "text": [
            "1\n",
            "2\n",
            "3\n",
            "4\n",
            "5\n",
            "None\n",
            "6\n"
          ]
        }
      ]
    },
    {
      "cell_type": "code",
      "source": [],
      "metadata": {
        "id": "sL48I_Hb-vYF"
      },
      "execution_count": null,
      "outputs": []
    },
    {
      "cell_type": "code",
      "source": [],
      "metadata": {
        "id": "IYrw15_v-vbs"
      },
      "execution_count": null,
      "outputs": []
    },
    {
      "cell_type": "code",
      "source": [],
      "metadata": {
        "id": "_oGF8vzr-vgr"
      },
      "execution_count": null,
      "outputs": []
    },
    {
      "cell_type": "markdown",
      "source": [
        "# DEF Func"
      ],
      "metadata": {
        "id": "sQf9X8RveOUb"
      }
    },
    {
      "cell_type": "code",
      "source": [
        "def hello_func():\n",
        "  print('Hello Function!')\n",
        "hello_func()"
      ],
      "metadata": {
        "colab": {
          "base_uri": "https://localhost:8080/"
        },
        "id": "uVrtmHEjenbq",
        "outputId": "fb1c328c-891d-4238-887f-9bd91a83423b"
      },
      "execution_count": 2,
      "outputs": [
        {
          "output_type": "stream",
          "name": "stdout",
          "text": [
            "Hello Function!\n"
          ]
        }
      ]
    },
    {
      "cell_type": "code",
      "source": [
        "def agp(x):\n",
        "  result=x//2\n",
        "  print(f'Your current money balance is ${result}.')\n",
        "\n",
        "agp(int(input()))  "
      ],
      "metadata": {
        "colab": {
          "base_uri": "https://localhost:8080/"
        },
        "id": "6Yl5i8Z3eniC",
        "outputId": "138d2839-135f-4f6d-a7c6-3c80680d8c19"
      },
      "execution_count": 6,
      "outputs": [
        {
          "output_type": "stream",
          "name": "stdout",
          "text": [
            "400\n",
            "Your current money balance is $200.\n"
          ]
        }
      ]
    },
    {
      "cell_type": "code",
      "source": [
        "from datetime import datetime\n",
        "\n",
        "def time():\n",
        "   print(datetime.now())\n",
        "\n",
        "  \n",
        "\n",
        "time()\n",
        "  "
      ],
      "metadata": {
        "colab": {
          "base_uri": "https://localhost:8080/"
        },
        "id": "MRsMESINenm3",
        "outputId": "b7761321-3a25-4767-ec7b-d44f89379479"
      },
      "execution_count": 24,
      "outputs": [
        {
          "output_type": "stream",
          "name": "stdout",
          "text": [
            "2022-12-27 14:54:43.254262\n"
          ]
        }
      ]
    },
    {
      "cell_type": "code",
      "source": [],
      "metadata": {
        "id": "3JVSLowQenrL"
      },
      "execution_count": null,
      "outputs": []
    },
    {
      "cell_type": "code",
      "source": [],
      "metadata": {
        "id": "zShKRi4QenvA"
      },
      "execution_count": null,
      "outputs": []
    },
    {
      "cell_type": "code",
      "source": [],
      "metadata": {
        "id": "S8opcA2Wenyx"
      },
      "execution_count": null,
      "outputs": []
    },
    {
      "cell_type": "code",
      "source": [],
      "metadata": {
        "id": "D7lZmfMAen4W"
      },
      "execution_count": null,
      "outputs": []
    },
    {
      "cell_type": "code",
      "source": [],
      "metadata": {
        "id": "rYil1I0Pen-l"
      },
      "execution_count": null,
      "outputs": []
    },
    {
      "cell_type": "code",
      "source": [],
      "metadata": {
        "id": "BrccX3D_eoDb"
      },
      "execution_count": null,
      "outputs": []
    },
    {
      "cell_type": "code",
      "source": [],
      "metadata": {
        "id": "-Tavwv3NeoHN"
      },
      "execution_count": null,
      "outputs": []
    },
    {
      "cell_type": "code",
      "source": [],
      "metadata": {
        "id": "MBHZwo0KeoLQ"
      },
      "execution_count": null,
      "outputs": []
    },
    {
      "cell_type": "code",
      "source": [],
      "metadata": {
        "id": "fo2e-3Z6eoUa"
      },
      "execution_count": null,
      "outputs": []
    },
    {
      "cell_type": "code",
      "source": [],
      "metadata": {
        "id": "yhTrz4cDeoa5"
      },
      "execution_count": null,
      "outputs": []
    },
    {
      "cell_type": "code",
      "source": [],
      "metadata": {
        "id": "qshwwiPfeogX"
      },
      "execution_count": null,
      "outputs": []
    },
    {
      "cell_type": "markdown",
      "source": [
        "# Lambda"
      ],
      "metadata": {
        "id": "Ri9gzPq2eVTq"
      }
    }
  ],
  "metadata": {
    "colab": {
      "toc_visible": true,
      "provenance": [],
      "authorship_tag": "ABX9TyOz6GncsKBLE0dnrB5mjrNx",
      "include_colab_link": true
    },
    "kernelspec": {
      "display_name": "Python 3",
      "name": "python3"
    },
    "language_info": {
      "name": "python"
    }
  },
  "nbformat": 4,
  "nbformat_minor": 0
}